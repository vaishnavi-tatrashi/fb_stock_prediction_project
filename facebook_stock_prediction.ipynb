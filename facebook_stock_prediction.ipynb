{
 "cells": [
  {
   "cell_type": "code",
   "execution_count": 1,
   "metadata": {},
   "outputs": [],
   "source": [
    "#Description: This program predicts the price of Fb stock for a specific day\n"
   ]
  },
  {
   "cell_type": "code",
   "execution_count": 2,
   "metadata": {},
   "outputs": [],
   "source": [
    "# import the libraries\n",
    "from sklearn.svm import SVR\n",
    "import numpy as np\n",
    "import pandas as pd\n",
    "import matplotlib.pyplot as plt\n",
    "plt.style.use('fivethirtyeight')"
   ]
  },
  {
   "cell_type": "code",
   "execution_count": 3,
   "metadata": {
    "scrolled": true
   },
   "outputs": [
    {
     "data": {
      "text/html": [
       "<div>\n",
       "<style scoped>\n",
       "    .dataframe tbody tr th:only-of-type {\n",
       "        vertical-align: middle;\n",
       "    }\n",
       "\n",
       "    .dataframe tbody tr th {\n",
       "        vertical-align: top;\n",
       "    }\n",
       "\n",
       "    .dataframe thead th {\n",
       "        text-align: right;\n",
       "    }\n",
       "</style>\n",
       "<table border=\"1\" class=\"dataframe\">\n",
       "  <thead>\n",
       "    <tr style=\"text-align: right;\">\n",
       "      <th></th>\n",
       "      <th>Date</th>\n",
       "      <th>Open</th>\n",
       "      <th>High</th>\n",
       "      <th>Low</th>\n",
       "      <th>Close</th>\n",
       "      <th>Adj Close</th>\n",
       "      <th>Volume</th>\n",
       "    </tr>\n",
       "  </thead>\n",
       "  <tbody>\n",
       "    <tr>\n",
       "      <th>0</th>\n",
       "      <td>2020-01-17</td>\n",
       "      <td>222.029999</td>\n",
       "      <td>222.289993</td>\n",
       "      <td>220.529999</td>\n",
       "      <td>222.139999</td>\n",
       "      <td>222.139999</td>\n",
       "      <td>15905900</td>\n",
       "    </tr>\n",
       "    <tr>\n",
       "      <th>1</th>\n",
       "      <td>2020-01-21</td>\n",
       "      <td>222.160004</td>\n",
       "      <td>222.369995</td>\n",
       "      <td>219.119995</td>\n",
       "      <td>221.440002</td>\n",
       "      <td>221.440002</td>\n",
       "      <td>14275800</td>\n",
       "    </tr>\n",
       "    <tr>\n",
       "      <th>2</th>\n",
       "      <td>2020-01-22</td>\n",
       "      <td>222.309998</td>\n",
       "      <td>222.750000</td>\n",
       "      <td>221.279999</td>\n",
       "      <td>221.320007</td>\n",
       "      <td>221.320007</td>\n",
       "      <td>12212800</td>\n",
       "    </tr>\n",
       "    <tr>\n",
       "      <th>3</th>\n",
       "      <td>2020-01-23</td>\n",
       "      <td>220.750000</td>\n",
       "      <td>221.490005</td>\n",
       "      <td>219.270004</td>\n",
       "      <td>219.759995</td>\n",
       "      <td>219.759995</td>\n",
       "      <td>11195000</td>\n",
       "    </tr>\n",
       "    <tr>\n",
       "      <th>4</th>\n",
       "      <td>2020-01-24</td>\n",
       "      <td>220.800003</td>\n",
       "      <td>221.779999</td>\n",
       "      <td>216.110001</td>\n",
       "      <td>217.940002</td>\n",
       "      <td>217.940002</td>\n",
       "      <td>11905800</td>\n",
       "    </tr>\n",
       "    <tr>\n",
       "      <th>...</th>\n",
       "      <td>...</td>\n",
       "      <td>...</td>\n",
       "      <td>...</td>\n",
       "      <td>...</td>\n",
       "      <td>...</td>\n",
       "      <td>...</td>\n",
       "      <td>...</td>\n",
       "    </tr>\n",
       "    <tr>\n",
       "      <th>247</th>\n",
       "      <td>2021-01-11</td>\n",
       "      <td>260.480011</td>\n",
       "      <td>263.470001</td>\n",
       "      <td>255.899994</td>\n",
       "      <td>256.839996</td>\n",
       "      <td>256.839996</td>\n",
       "      <td>30412300</td>\n",
       "    </tr>\n",
       "    <tr>\n",
       "      <th>248</th>\n",
       "      <td>2021-01-12</td>\n",
       "      <td>256.630005</td>\n",
       "      <td>259.720001</td>\n",
       "      <td>250.300003</td>\n",
       "      <td>251.089996</td>\n",
       "      <td>251.089996</td>\n",
       "      <td>26449900</td>\n",
       "    </tr>\n",
       "    <tr>\n",
       "      <th>249</th>\n",
       "      <td>2021-01-13</td>\n",
       "      <td>251.550003</td>\n",
       "      <td>253.949997</td>\n",
       "      <td>249.199997</td>\n",
       "      <td>251.639999</td>\n",
       "      <td>251.639999</td>\n",
       "      <td>19528900</td>\n",
       "    </tr>\n",
       "    <tr>\n",
       "      <th>250</th>\n",
       "      <td>2021-01-14</td>\n",
       "      <td>253.399994</td>\n",
       "      <td>255.029999</td>\n",
       "      <td>244.610001</td>\n",
       "      <td>245.639999</td>\n",
       "      <td>245.639999</td>\n",
       "      <td>29739400</td>\n",
       "    </tr>\n",
       "    <tr>\n",
       "      <th>251</th>\n",
       "      <td>2021-01-15</td>\n",
       "      <td>247.899994</td>\n",
       "      <td>253.860001</td>\n",
       "      <td>247.160004</td>\n",
       "      <td>251.360001</td>\n",
       "      <td>251.360001</td>\n",
       "      <td>24786100</td>\n",
       "    </tr>\n",
       "  </tbody>\n",
       "</table>\n",
       "<p>252 rows × 7 columns</p>\n",
       "</div>"
      ],
      "text/plain": [
       "           Date        Open        High         Low       Close   Adj Close  \\\n",
       "0    2020-01-17  222.029999  222.289993  220.529999  222.139999  222.139999   \n",
       "1    2020-01-21  222.160004  222.369995  219.119995  221.440002  221.440002   \n",
       "2    2020-01-22  222.309998  222.750000  221.279999  221.320007  221.320007   \n",
       "3    2020-01-23  220.750000  221.490005  219.270004  219.759995  219.759995   \n",
       "4    2020-01-24  220.800003  221.779999  216.110001  217.940002  217.940002   \n",
       "..          ...         ...         ...         ...         ...         ...   \n",
       "247  2021-01-11  260.480011  263.470001  255.899994  256.839996  256.839996   \n",
       "248  2021-01-12  256.630005  259.720001  250.300003  251.089996  251.089996   \n",
       "249  2021-01-13  251.550003  253.949997  249.199997  251.639999  251.639999   \n",
       "250  2021-01-14  253.399994  255.029999  244.610001  245.639999  245.639999   \n",
       "251  2021-01-15  247.899994  253.860001  247.160004  251.360001  251.360001   \n",
       "\n",
       "       Volume  \n",
       "0    15905900  \n",
       "1    14275800  \n",
       "2    12212800  \n",
       "3    11195000  \n",
       "4    11905800  \n",
       "..        ...  \n",
       "247  30412300  \n",
       "248  26449900  \n",
       "249  19528900  \n",
       "250  29739400  \n",
       "251  24786100  \n",
       "\n",
       "[252 rows x 7 columns]"
      ]
     },
     "execution_count": 3,
     "metadata": {},
     "output_type": "execute_result"
    }
   ],
   "source": [
    "#store and load data\n",
    "df=pd.read_csv('FB.csv')\n",
    "df"
   ]
  },
  {
   "cell_type": "code",
   "execution_count": 4,
   "metadata": {},
   "outputs": [
    {
     "data": {
      "text/plain": [
       "(252, 7)"
      ]
     },
     "execution_count": 4,
     "metadata": {},
     "output_type": "execute_result"
    }
   ],
   "source": [
    "#get the number of rows and columns\n",
    "df.shape"
   ]
  },
  {
   "cell_type": "code",
   "execution_count": 5,
   "metadata": {},
   "outputs": [
    {
     "data": {
      "text/html": [
       "<div>\n",
       "<style scoped>\n",
       "    .dataframe tbody tr th:only-of-type {\n",
       "        vertical-align: middle;\n",
       "    }\n",
       "\n",
       "    .dataframe tbody tr th {\n",
       "        vertical-align: top;\n",
       "    }\n",
       "\n",
       "    .dataframe thead th {\n",
       "        text-align: right;\n",
       "    }\n",
       "</style>\n",
       "<table border=\"1\" class=\"dataframe\">\n",
       "  <thead>\n",
       "    <tr style=\"text-align: right;\">\n",
       "      <th></th>\n",
       "      <th>Date</th>\n",
       "      <th>Open</th>\n",
       "      <th>High</th>\n",
       "      <th>Low</th>\n",
       "      <th>Close</th>\n",
       "      <th>Adj Close</th>\n",
       "      <th>Volume</th>\n",
       "    </tr>\n",
       "  </thead>\n",
       "  <tbody>\n",
       "    <tr>\n",
       "      <th>251</th>\n",
       "      <td>2021-01-15</td>\n",
       "      <td>247.899994</td>\n",
       "      <td>253.860001</td>\n",
       "      <td>247.160004</td>\n",
       "      <td>251.360001</td>\n",
       "      <td>251.360001</td>\n",
       "      <td>24786100</td>\n",
       "    </tr>\n",
       "  </tbody>\n",
       "</table>\n",
       "</div>"
      ],
      "text/plain": [
       "           Date        Open        High         Low       Close   Adj Close  \\\n",
       "251  2021-01-15  247.899994  253.860001  247.160004  251.360001  251.360001   \n",
       "\n",
       "       Volume  \n",
       "251  24786100  "
      ]
     },
     "execution_count": 5,
     "metadata": {},
     "output_type": "execute_result"
    }
   ],
   "source": [
    "#Get and print the last row of data\n",
    "actual_price=df.tail(1)\n",
    "actual_price"
   ]
  },
  {
   "cell_type": "code",
   "execution_count": 6,
   "metadata": {},
   "outputs": [
    {
     "name": "stdout",
     "output_type": "stream",
     "text": [
      "           Date        Open        High         Low       Close   Adj Close  \\\n",
      "0    2020-01-17  222.029999  222.289993  220.529999  222.139999  222.139999   \n",
      "1    2020-01-21  222.160004  222.369995  219.119995  221.440002  221.440002   \n",
      "2    2020-01-22  222.309998  222.750000  221.279999  221.320007  221.320007   \n",
      "3    2020-01-23  220.750000  221.490005  219.270004  219.759995  219.759995   \n",
      "4    2020-01-24  220.800003  221.779999  216.110001  217.940002  217.940002   \n",
      "..          ...         ...         ...         ...         ...         ...   \n",
      "246  2021-01-08  268.309998  268.950012  263.179993  267.570007  267.570007   \n",
      "247  2021-01-11  260.480011  263.470001  255.899994  256.839996  256.839996   \n",
      "248  2021-01-12  256.630005  259.720001  250.300003  251.089996  251.089996   \n",
      "249  2021-01-13  251.550003  253.949997  249.199997  251.639999  251.639999   \n",
      "250  2021-01-14  253.399994  255.029999  244.610001  245.639999  245.639999   \n",
      "\n",
      "       Volume  \n",
      "0    15905900  \n",
      "1    14275800  \n",
      "2    12212800  \n",
      "3    11195000  \n",
      "4    11905800  \n",
      "..        ...  \n",
      "246  18528300  \n",
      "247  30412300  \n",
      "248  26449900  \n",
      "249  19528900  \n",
      "250  29739400  \n",
      "\n",
      "[251 rows x 7 columns]\n"
     ]
    }
   ],
   "source": [
    "#prepare the data for SVR models\n",
    "# get all of the data excepts for the last row\n",
    "df=df.head(len(df)-1)\n",
    "#print the new data\n",
    "print(df)"
   ]
  },
  {
   "cell_type": "code",
   "execution_count": 7,
   "metadata": {},
   "outputs": [],
   "source": [
    "#Create empty lists to store the independent and dependent data\n",
    "days=list()\n",
    "adj_close_prices=list()"
   ]
  },
  {
   "cell_type": "code",
   "execution_count": 8,
   "metadata": {},
   "outputs": [],
   "source": [
    "#Get the dates and adjusted close prices\n",
    "df_days=df.loc[:,'Date']\n",
    "df_adj_close=df.loc[:,'Adj Close']\n",
    "#print(df_days)"
   ]
  },
  {
   "cell_type": "code",
   "execution_count": 9,
   "metadata": {},
   "outputs": [],
   "source": [
    "#Create the independent data set\n",
    "#print(days)\n",
    "for day in df_days:\n",
    "    x=day[-2:]\n",
    "    days.append([int(x)])\n",
    "\n",
    "#Create the dependent data set\n",
    "for adj_close_price in df_adj_close:\n",
    "    adj_close_prices.append(float(adj_close_price))"
   ]
  },
  {
   "cell_type": "code",
   "execution_count": 10,
   "metadata": {},
   "outputs": [
    {
     "name": "stdout",
     "output_type": "stream",
     "text": [
      "[[17], [21], [22], [23], [24], [27], [28], [29], [30], [31], [3], [4], [5], [6], [7], [10], [11], [12], [13], [14], [18], [19], [20], [21], [24], [25], [26], [27], [28], [2], [3], [4], [5], [6], [9], [10], [11], [12], [13], [16], [17], [18], [19], [20], [23], [24], [25], [26], [27], [30], [31], [1], [2], [3], [6], [7], [8], [9], [13], [14], [15], [16], [17], [20], [21], [22], [23], [24], [27], [28], [29], [30], [1], [4], [5], [6], [7], [8], [11], [12], [13], [14], [15], [18], [19], [20], [21], [22], [26], [27], [28], [29], [1], [2], [3], [4], [5], [8], [9], [10], [11], [12], [15], [16], [17], [18], [19], [22], [23], [24], [25], [26], [29], [30], [1], [2], [6], [7], [8], [9], [10], [13], [14], [15], [16], [17], [20], [21], [22], [23], [24], [27], [28], [29], [30], [31], [3], [4], [5], [6], [7], [10], [11], [12], [13], [14], [17], [18], [19], [20], [21], [24], [25], [26], [27], [28], [31], [1], [2], [3], [4], [8], [9], [10], [11], [14], [15], [16], [17], [18], [21], [22], [23], [24], [25], [28], [29], [30], [1], [2], [5], [6], [7], [8], [9], [12], [13], [14], [15], [16], [19], [20], [21], [22], [23], [26], [27], [28], [29], [30], [2], [3], [4], [5], [6], [9], [10], [11], [12], [13], [16], [17], [18], [19], [20], [23], [24], [25], [27], [30], [1], [2], [3], [4], [7], [8], [9], [10], [11], [14], [15], [16], [17], [18], [21], [22], [23], [24], [28], [29], [30], [31], [4], [5], [6], [7], [8], [11], [12], [13], [14]]\n",
      "[222.13999900000002, 221.440002, 221.32000699999998, 219.75999500000003, 217.940002, 214.86999500000002, 217.789993, 223.229996, 209.529999, 201.91000400000001, 204.190002, 209.830002, 210.11000099999998, 210.850006, 212.330002, 213.059998, 207.190002, 210.75999500000003, 213.13999900000002, 214.17999300000002, 217.80000299999998, 217.49000499999997, 214.580002, 210.17999300000002, 200.720001, 196.770004, 197.199997, 189.75, 192.470001, 196.440002, 185.889999, 191.759995, 185.169998, 181.08999599999999, 169.5, 178.190002, 170.240005, 154.470001, 170.279999, 146.009995, 149.419998, 146.96000700000002, 153.130005, 149.729996, 148.100006, 160.979996, 156.21000700000002, 163.33999599999999, 156.78999299999998, 165.949997, 166.800003, 159.600006, 158.190002, 154.179993, 165.550003, 168.830002, 174.279999, 175.190002, 174.78999299999998, 178.169998, 176.970001, 176.25, 179.240005, 178.240005, 170.800003, 182.279999, 185.130005, 190.070007, 187.5, 182.91000400000001, 194.190002, 204.71000700000002, 202.270004, 205.259995, 207.070007, 208.470001, 211.25999500000003, 212.350006, 213.17999300000002, 210.100006, 205.100006, 206.809998, 210.88000499999998, 213.190002, 216.88000499999998, 229.97000099999997, 231.38999900000002, 234.91000400000001, 232.19999700000002, 229.13999900000002, 225.460007, 225.08999599999999, 231.91000400000001, 232.72000099999997, 230.16000400000001, 226.289993, 230.770004, 231.399994, 238.669998, 236.729996, 224.42999300000002, 228.580002, 232.5, 235.649994, 235.52999900000003, 235.940002, 238.789993, 239.22000099999997, 242.24000499999997, 234.020004, 235.67999300000002, 216.080002, 220.63999900000002, 227.07000699999998, 237.55000299999998, 233.419998, 240.27999900000003, 240.86000099999998, 243.580002, 244.5, 245.07000699999998, 239.0, 239.729996, 240.27999900000003, 240.92999300000002, 242.02999900000003, 245.419998, 241.75, 239.86999500000002, 232.600006, 230.710007, 233.5, 230.11999500000002, 233.289993, 234.5, 253.669998, 251.960007, 249.830002, 249.11999500000002, 265.27999900000003, 268.440002, 263.0, 256.130005, 259.890015, 261.299988, 261.23999, 261.160004, 262.339996, 262.589996, 269.01001, 267.01001, 271.390015, 280.820007, 303.910004, 293.22000099999997, 293.660004, 293.200012, 295.440002, 302.5, 291.119995, 282.730011, 271.160004, 273.72000099999997, 268.089996, 266.609985, 266.149994, 272.420013, 263.519989, 254.82000699999998, 252.52999900000003, 248.149994, 254.75, 249.020004, 249.52999900000003, 254.82000699999998, 256.820007, 261.790009, 261.899994, 266.630005, 259.940002, 264.649994, 258.660004, 258.119995, 263.76001, 264.450012, 275.75, 276.140015, 271.820007, 266.72000099999997, 265.929993, 261.399994, 267.559998, 278.730011, 278.119995, 284.790009, 277.109985, 283.290009, 267.670013, 280.829987, 263.109985, 261.359985, 265.299988, 287.380005, 294.679993, 293.410004, 278.769989, 272.429993, 276.480011, 275.079987, 276.950012, 278.959991, 275.0, 271.97000099999997, 272.940002, 269.700012, 268.429993, 276.920013, 275.589996, 277.809998, 276.97000099999997, 286.549988, 287.519989, 281.850006, 279.700012, 285.579987, 283.399994, 277.920013, 277.119995, 273.549988, 274.190002, 275.549988, 275.670013, 274.480011, 276.399994, 272.790009, 267.089996, 268.109985, 267.399994, 277.0, 276.77999900000003, 271.869995, 273.160004, 268.940002, 270.97000099999997, 263.309998, 268.73999, 267.570007, 256.839996, 251.08999599999999, 251.63999900000002, 245.63999900000002]\n"
     ]
    }
   ],
   "source": [
    "#print the days and adj close prices\n",
    "print(days)\n",
    "print(adj_close_prices)"
   ]
  },
  {
   "cell_type": "code",
   "execution_count": 11,
   "metadata": {},
   "outputs": [
    {
     "data": {
      "text/plain": [
       "SVR(gamma=0.15)"
      ]
     },
     "execution_count": 11,
     "metadata": {},
     "output_type": "execute_result"
    }
   ],
   "source": [
    "#create the 3 support vector regression models\n",
    "\n",
    "#create and train a svr model using a linear kernal\n",
    "lin_svr=SVR(kernel='linear')\n",
    "lin_svr.fit(days,adj_close_prices)\n",
    "\n",
    "#create and train a svr model using a polynomial kernal\n",
    "poly_svr=SVR(kernel='poly',degree=2)\n",
    "poly_svr.fit(days,adj_close_prices)\n",
    "\n",
    "#create and train a svr model using a rbf kernal\n",
    "rbf_svr=SVR(kernel='rbf',gamma=0.15)\n",
    "rbf_svr.fit(days,adj_close_prices)"
   ]
  },
  {
   "cell_type": "code",
   "execution_count": 116,
   "metadata": {},
   "outputs": [
    {
     "data": {
      "image/png": "[encoded data removed]",
      "text/plain": [
       "<Figure size 1440x576 with 1 Axes>"
      ]
     },
     "metadata": {},
     "output_type": "display_data"
    }
   ],
   "source": [
    "#plot the models on a graph \n",
    "plt.figure(figsize=(20,8))\n",
    "plt.scatter(days,adj_close_prices,color='red',label='Data')\n",
    "plt.plot(days,rbf_svr.predict(days),color='green',label='RBF Model')\n",
    "plt.plot(days,poly_svr.predict(days),color='orange',label='Polynomial Model')\n",
    "plt.plot(days,lin_svr.predict(days),color='blue',label='Linear Model')\n",
    "plt.legend()\n",
    "plt.show()"
   ]
  },
  {
   "cell_type": "code",
   "execution_count": 12,
   "metadata": {},
   "outputs": [
    {
     "name": "stdout",
     "output_type": "stream",
     "text": [
      "The RBF SVR predicted: [237.35343664]\n",
      "The Linear SVR predicted: [235.64176594]\n",
      "The Polynomial SVR predicted: [236.41433629]\n"
     ]
    }
   ],
   "source": [
    "#show the predicted price for given day\n",
    "day=[[24]]\n",
    "print('The RBF SVR predicted:',rbf_svr.predict(day))\n",
    "print('The Linear SVR predicted:',lin_svr.predict(day))\n",
    "print('The Polynomial SVR predicted:',poly_svr.predict(day))\n"
   ]
  },
  {
   "cell_type": "code",
   "execution_count": 13,
   "metadata": {},
   "outputs": [
    {
     "name": "stdout",
     "output_type": "stream",
     "text": [
      "The actual price: 251    251.360001\n",
      "Name: Adj Close, dtype: float64\n"
     ]
    }
   ],
   "source": [
    "# print the actual price of ten stock on 31 day\n",
    "print('The actual price:',actual_price['Adj Close'])"
   ]
  }
 ],
 "metadata": {
  "kernelspec": {
   "display_name": "Python 3",
   "language": "python",
   "name": "python3"
  },
  "language_info": {
   "codemirror_mode": {
    "name": "ipython",
    "version": 3
   },
   "file_extension": ".py",
   "mimetype": "text/x-python",
   "name": "python",
   "nbconvert_exporter": "python",
   "pygments_lexer": "ipython3",
   "version": "3.8.3"
  }
 },
 "nbformat": 4,
 "nbformat_minor": 4
}
